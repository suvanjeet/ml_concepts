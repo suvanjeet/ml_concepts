{
 "cells": [
  {
   "cell_type": "code",
   "execution_count": null,
   "metadata": {
    "collapsed": true
   },
   "outputs": [],
   "source": [
    "#pip install -U textblob  #at the prompt"
   ]
  },
  {
   "cell_type": "code",
   "execution_count": 2,
   "metadata": {
    "collapsed": true
   },
   "outputs": [],
   "source": [
    "from textblob import TextBlob\n",
    "\n",
    "#creating a textblob\n",
    "wiki = TextBlob(\"Python is a high-level, general-purpose programming language.\")\n"
   ]
  },
  {
   "cell_type": "code",
   "execution_count": 3,
   "metadata": {},
   "outputs": [
    {
     "data": {
      "text/plain": [
       "[('Python', 'NNP'),\n",
       " ('is', 'VBZ'),\n",
       " ('a', 'DT'),\n",
       " ('high-level', 'JJ'),\n",
       " ('general-purpose', 'JJ'),\n",
       " ('programming', 'NN'),\n",
       " ('language', 'NN')]"
      ]
     },
     "execution_count": 3,
     "metadata": {},
     "output_type": "execute_result"
    }
   ],
   "source": [
    "#pos tagging\n",
    "\n",
    "wiki.tags"
   ]
  },
  {
   "cell_type": "code",
   "execution_count": 4,
   "metadata": {},
   "outputs": [
    {
     "data": {
      "text/plain": [
       "WordList(['Life', 'is', 'beautiful', 'Enjoy', 'the', 'life', 'you', 'have', 'before', 'its', 'too', 'late', 'Travel', 'a', 'lot', 'and', 'make', 'unforgettable', 'memories'])"
      ]
     },
     "execution_count": 4,
     "metadata": {},
     "output_type": "execute_result"
    }
   ],
   "source": [
    "# word tokenize\n",
    "\n",
    "mytext = TextBlob(\"\"\"Life is beautiful. \n",
    "                  Enjoy the life you have before its too late. \n",
    "                  Travel a lot and make unforgettable memories. \"\"\")\n",
    "mytext.words"
   ]
  },
  {
   "cell_type": "code",
   "execution_count": 5,
   "metadata": {},
   "outputs": [
    {
     "data": {
      "text/plain": [
       "[Sentence(\"Life is beautiful.\"),\n",
       " Sentence(\"Enjoy the life you have before its too late.\"),\n",
       " Sentence(\"Travel a lot and make unforgettable memories.\")]"
      ]
     },
     "execution_count": 5,
     "metadata": {},
     "output_type": "execute_result"
    }
   ],
   "source": [
    "# sentence tokenize\n",
    "mytext.sentences"
   ]
  },
  {
   "cell_type": "code",
   "execution_count": 6,
   "metadata": {},
   "outputs": [
    {
     "name": "stdout",
     "output_type": "stream",
     "text": [
      "['Use', '4', 'spaces', 'per', 'indentation', 'level']\n",
      "space\n",
      "levels\n",
      "['Uses', '4s', 'spacess', 'pers', 'indentations', 'levels']\n"
     ]
    }
   ],
   "source": [
    "#word inflection\n",
    "\n",
    "sentence = TextBlob('Use 4 spaces per indentation level.')\n",
    "print(sentence.words)\n",
    "\n",
    "print(sentence.words[2].singularize())\n",
    "print(sentence.words[-1].pluralize())\n",
    "print(sentence.words.pluralize())"
   ]
  },
  {
   "cell_type": "code",
   "execution_count": 46,
   "metadata": {},
   "outputs": [
    {
     "name": "stdout",
     "output_type": "stream",
     "text": [
      "octopus\n",
      "go\n"
     ]
    }
   ],
   "source": [
    "#lemmatization\n",
    "\n",
    "from textblob import Word\n",
    "\n",
    "w = Word(\"octopi\")\n",
    "print(w.lemmatize())\n",
    "\n",
    "w = Word(\"went\")\n",
    "print(w.lemmatize(\"v\"))  #pass POS"
   ]
  },
  {
   "cell_type": "code",
   "execution_count": 47,
   "metadata": {
    "scrolled": true
   },
   "outputs": [
    {
     "name": "stdout",
     "output_type": "stream",
     "text": [
      "I have good spelling!\n"
     ]
    }
   ],
   "source": [
    "# spelling correction\n",
    "\n",
    "b = TextBlob(\"I havv goood speling!\")\n",
    "print(b.correct())"
   ]
  },
  {
   "cell_type": "code",
   "execution_count": 49,
   "metadata": {},
   "outputs": [
    {
     "name": "stdout",
     "output_type": "stream",
     "text": [
      "Python is a high-level, general-purpose programming language.\n",
      "Python is a high-level, genera\n",
      "PYTHON IS A HIGH-LEVEL, GENERAL-PURPOSE PROGRAMMING LANGUAGE.\n",
      "40\n"
     ]
    }
   ],
   "source": [
    "# textblobs are like strings\n",
    "print(wiki)\n",
    "print(wiki[0:30])\n",
    "\n",
    "print(wiki.upper())\n",
    "\n",
    "print(wiki.find(\"programming\"))"
   ]
  },
  {
   "cell_type": "code",
   "execution_count": 7,
   "metadata": {},
   "outputs": [
    {
     "data": {
      "text/plain": [
       "[WordList(['Python', 'is', 'a', 'high-level']),\n",
       " WordList(['is', 'a', 'high-level', 'general-purpose']),\n",
       " WordList(['a', 'high-level', 'general-purpose', 'programming']),\n",
       " WordList(['high-level', 'general-purpose', 'programming', 'language'])]"
      ]
     },
     "execution_count": 7,
     "metadata": {},
     "output_type": "execute_result"
    }
   ],
   "source": [
    "# n grams\n",
    "\n",
    "wiki.ngrams(n=4)"
   ]
  },
  {
   "cell_type": "code",
   "execution_count": 9,
   "metadata": {},
   "outputs": [
    {
     "data": {
      "text/plain": [
       "Sentiment(polarity=0.85, subjectivity=1.0)"
      ]
     },
     "execution_count": 9,
     "metadata": {},
     "output_type": "execute_result"
    }
   ],
   "source": [
    "#sentiment analysis\n",
    "\n",
    "text = TextBlob(\"Life is beautiful\")\n",
    "text.sentiment"
   ]
  },
  {
   "cell_type": "code",
   "execution_count": 53,
   "metadata": {
    "scrolled": true
   },
   "outputs": [
    {
     "name": "stdout",
     "output_type": "stream",
     "text": [
      "Sentiment(polarity=0.85, subjectivity=1.0)\n",
      "Sentiment(polarity=0.05000000000000002, subjectivity=0.55)\n",
      "Sentiment(polarity=0.8, subjectivity=1.0)\n"
     ]
    }
   ],
   "source": [
    "for sentence in mytext.sentences:\n",
    "    print(sentence.sentiment)"
   ]
  },
  {
   "cell_type": "markdown",
   "metadata": {},
   "source": [
    "# Building a text classification system"
   ]
  },
  {
   "cell_type": "code",
   "execution_count": 16,
   "metadata": {
    "collapsed": true
   },
   "outputs": [],
   "source": [
    "#Loading data\n",
    "\n",
    "train = [\n",
    "        ('I love this sandwich.', 'pos'),\n",
    "        ('this is an amazing place!', 'pos'),\n",
    "        ('I feel very good about these beers.', 'pos'),\n",
    "        ('this is my best work.', 'pos'),\n",
    "        (\"what an awesome view\", 'pos'),\n",
    "        ('I do not like this restaurant', 'neg'),\n",
    "        ('I am tired of this stuff.', 'neg'),\n",
    "        (\"I can't deal with this\", 'neg'),\n",
    "        ('he is my sworn enemy!', 'neg'),\n",
    "        ('my boss is horrible.', 'neg'),\n",
    "        ('the beer was good.', 'pos'),\n",
    "        (\"I feel amazing!\", 'pos'),\n",
    "        ]\n",
    "test = [\n",
    "        ('the beer was good.', 'pos'),\n",
    "        ('I do not enjoy my job', 'neg'),\n",
    "        (\"I ain't feeling dandy today.\", 'neg'),\n",
    "        (\"I feel amazing!\", 'pos'),\n",
    "        ('Gary is a friend of mine.', 'pos'),\n",
    "        (\"I can't believe I'm doing this.\", 'neg')\n",
    "    ]\n"
   ]
  },
  {
   "cell_type": "code",
   "execution_count": 17,
   "metadata": {
    "collapsed": true
   },
   "outputs": [],
   "source": [
    "#training the Naive Bayes Classifier\n",
    "from textblob.classifiers import NaiveBayesClassifier\n",
    "cl = NaiveBayesClassifier(train)"
   ]
  },
  {
   "cell_type": "code",
   "execution_count": 29,
   "metadata": {},
   "outputs": [
    {
     "data": {
      "text/plain": [
       "'neg'"
      ]
     },
     "execution_count": 29,
     "metadata": {},
     "output_type": "execute_result"
    }
   ],
   "source": [
    "#classify based on the training data\n",
    "cl.classify(\"my boss is horrible\")\n"
   ]
  },
  {
   "cell_type": "code",
   "execution_count": 31,
   "metadata": {},
   "outputs": [
    {
     "name": "stdout",
     "output_type": "stream",
     "text": [
      "neg\n",
      "0.35\n",
      "0.65\n"
     ]
    }
   ],
   "source": [
    "#find the probability distribution\n",
    "prob_dist = cl.prob_classify(\"I am very happy with their customer support\")\n",
    "print(prob_dist.max())\n",
    "\n",
    "print(round(prob_dist.prob(\"pos\"), 2))\n",
    "print(round(prob_dist.prob(\"neg\"), 2))"
   ]
  },
  {
   "cell_type": "code",
   "execution_count": 30,
   "metadata": {},
   "outputs": [
    {
     "data": {
      "text/plain": [
       "0.8333333333333334"
      ]
     },
     "execution_count": 30,
     "metadata": {},
     "output_type": "execute_result"
    }
   ],
   "source": [
    "cl.accuracy(test)"
   ]
  }
 ],
 "metadata": {
  "kernelspec": {
   "display_name": "Python 3",
   "language": "python",
   "name": "python3"
  },
  "language_info": {
   "codemirror_mode": {
    "name": "ipython",
    "version": 3
   },
   "file_extension": ".py",
   "mimetype": "text/x-python",
   "name": "python",
   "nbconvert_exporter": "python",
   "pygments_lexer": "ipython3",
   "version": "3.6.2"
  }
 },
 "nbformat": 4,
 "nbformat_minor": 1
}
