{
 "cells": [
  {
   "cell_type": "code",
   "execution_count": null,
   "metadata": {},
   "outputs": [],
   "source": [
    "#Pytorch is deep learning framework\n",
    "# more tightly integrated with python than Tensor flow\n",
    "# Supports dynamic computation graph (When build upa neural network, don't have to user same neural network for each epoc...\n",
    "#can dynamically change neural networks on each epoc)\n",
    "#uses gradient decent optimization and back propagation\n",
    "# Like othe deep learning pytorch uses forward pass for prediction and backword pass for training and updating the wights\n",
    "#of the model\n",
    "# will understand autograd package in pytorch use for back propagation when train neural networks\n",
    "# then use classes from pytorch to define neural network and connect them \n",
    "# building image classification model \n",
    "# convolutional neural network  in pytorch  and usi8ng pre trained model for image classification\n",
    "# Text classification model using recurrent neural network\n",
    "\n",
    "#after prediction of test outputs, it feed back the info to the classifier in order to improve model parameter .\n",
    "# This is training phase. The feedback that trains machine learning model is called loss function and this is to \n",
    "#determine how far the prediction of model is from actual classification and this difference is used to improve your model. \n",
    "\n",
    "# Traditional ML bsed system: Expert to decide the features to pay attention Ex> Decission tree, Nive baised model, SVM\n",
    "# Representation ML based models : figure out themselves what features in the input data are important. Ex: Neural networks\n",
    "\n",
    "# Deep Learning: Classes of algorithms that learns which input data/feature are important or significant \n",
    "# Neural Network : Most common class of deep learning algorithm \n",
    "# Neural networks are built up of neurons \n",
    "# neurons are simple building block of the learning units within neural networks.\n",
    "# neurons are mathmatical functions which takes input, perform computation using those inputs and produce output. \n",
    "\n",
    "#neural networks are composed of layers. inputs feed into the network passes through series of layers where each layer \n",
    "#performs some mathmatical operations of the input that apply. The output of one layer is fed to the input of another layer.\n",
    "# visible layers: those layers which take the input and produce the output. In between visible layers there can be \n",
    "#n number of layers(hidden layers of neural network).\n",
    "\n",
    "# every layer in neural network is made up of a number of active learning units, individual interconnected neurons.\n",
    "#The output of neurons in one layer are the inputs to the neuron of next layer. So nerons of every layer is connected\n",
    "#behind it and ahead of it. \n",
    "\n",
    "#neurons are single mathmatical functions which takes no of inputs and process it and produces no of outputs.\n",
    "# These outputs can be passed on to multiple neurons on next lavel \n",
    "# the output of one neuron is associated with a weight when connects to another neuron \n",
    "#(W value depends upon how strong the neuron is sensitive to the output of another neuron)\n",
    "#The connections between neurons called as tensors\n",
    "# Within every single Neurons two functions are there : Affine Transformation: Activation function\n",
    "# Affine Transformation: It is represents the linear relationships between inputs and output in the neuron.\n",
    "# Activation Function: output from Affine Transformation is fed to Activation function \n",
    "# Combination of Affine Transformaton and Activation Function learns any arbitary relationship between input and output\n",
    "\n",
    "\n"
   ]
  }
 ],
 "metadata": {
  "kernelspec": {
   "display_name": "Python 3",
   "language": "python",
   "name": "python3"
  },
  "language_info": {
   "codemirror_mode": {
    "name": "ipython",
    "version": 3
   },
   "file_extension": ".py",
   "mimetype": "text/x-python",
   "name": "python",
   "nbconvert_exporter": "python",
   "pygments_lexer": "ipython3",
   "version": "3.6.5"
  }
 },
 "nbformat": 4,
 "nbformat_minor": 2
}
