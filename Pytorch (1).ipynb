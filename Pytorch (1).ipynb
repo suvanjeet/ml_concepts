{
 "cells": [
  {
   "cell_type": "code",
   "execution_count": null,
   "metadata": {},
   "outputs": [],
   "source": [
    "#Pytorch is deep learning framework\n",
    "# more tightly integrated with python than Tensor flow\n",
    "# Supports dynamic computation graph (When build upa neural network, don't have to user same neural network for each epoc...\n",
    "#can dynamically change neural networks on each epoc)\n",
    "#uses gradient decent optimization and back propagation\n",
    "# Like othe deep learning pytorch uses forward pass for prediction and backword pass for training and updating the wights\n",
    "#of the model\n",
    "# will understand autograd package in pytorch use for back propagation when train neural networks\n",
    "# then use classes from pytorch to define neural network and connect them \n",
    "# building image classification model \n",
    "# convolutional neural network  in pytorch  and usi8ng pre trained model for image classification\n",
    "# Text classification model using recurrent neural network\n",
    "\n",
    "#after prediction of test outputs, it feed back the info to the classifier in order to improve model parameter .\n",
    "# This is training phase. The feedback that trains machine learning model is called loss function and this is to \n",
    "#determine how far the prediction of model is from actual classification and this difference is used to improve your model. \n",
    "\n",
    "# Traditional ML bsed system: Expert to decide the features to pay attention Ex> Decission tree, Nive baised model, SVM\n",
    "# Representation ML based models : figure out themselves what features in the input data are important. Ex: Neural networks\n",
    "\n",
    "# Deep Learning: Classes of algorithms that learns which input data/feature are important or significant \n",
    "# Neural Network : Most common class of deep learning algorithm \n",
    "# Neural networks are built up of neurons \n",
    "# neurons are simple building block of the learning units within neural networks.\n",
    "# neurons are mathmatical functions which takes input, perform computation using those inputs and produce output. \n",
    "\n",
    "#neural networks are composed of layers. inputs feed into the network passes through series of layers where each layer \n",
    "#performs some mathmatical operations of the input that apply. The output of one layer is fed to the input of another layer.\n",
    "# visible layers: those layers which take the input and produce the output. In between visible layers there can be \n",
    "#n number of layers(hidden layers of neural network).\n",
    "\n",
    "# every layer in neural network is made up of a number of active learning units, individual interconnected neurons.\n",
    "#The output of neurons in one layer are the inputs to the neuron of next layer. So nerons of every layer is connected\n",
    "#behind it and ahead of it. \n",
    "\n",
    "#neurons are single mathmatical functions which takes no of inputs and process it and produces no of outputs.\n",
    "# These outputs can be passed on to multiple neurons on next lavel \n",
    "# the output of one neuron is associated with a weight when connects to another neuron \n",
    "#(W value depends upon how strong the neuron is sensitive to the output of another neuron)\n",
    "#The connections between neurons called as tensors\n",
    "# Within every single Neurons two functions are there : Affine Transformation: Activation function\n",
    "# Affine Transformation: It is represents the linear relationships between inputs and output in the neuron.\n",
    "# Activation Function: output from Affine Transformation is fed to Activation function \n",
    "# Combination of Affine Transformaton and Activation Function learns any arbitary relationship between input and output\n",
    "\n",
    "# Pytorch uses a \"Tape-Based-Autograd\" system using and replaying a tape recorder to adjust the weight of model \n",
    "\n",
    "#https://pytorch.org/get-started/locally/"
   ]
  },
  {
   "cell_type": "code",
   "execution_count": 5,
   "metadata": {},
   "outputs": [],
   "source": [
    "# tensors are cetral data normally represented by 3 characterstics.\n",
    "# Rank : No of Dimensions\n",
    "# shape : No of elements in each dimension\n",
    "# Type : data type may ne int, float, boolean etc"
   ]
  },
  {
   "cell_type": "code",
   "execution_count": 8,
   "metadata": {},
   "outputs": [
    {
     "name": "stdout",
     "output_type": "stream",
     "text": [
      "1.0.1\n"
     ]
    }
   ],
   "source": [
    "import torch \n",
    "print(torch.__version__)"
   ]
  },
  {
   "cell_type": "code",
   "execution_count": 10,
   "metadata": {},
   "outputs": [
    {
     "data": {
      "text/plain": [
       "tensor([[1., 2.],\n",
       "        [4., 5.]])"
      ]
     },
     "execution_count": 10,
     "metadata": {},
     "output_type": "execute_result"
    }
   ],
   "source": [
    "tensor_array= torch.Tensor([[1,2],[4,5]])  #2D tensor\n",
    "tensor_array"
   ]
  },
  {
   "cell_type": "code",
   "execution_count": 11,
   "metadata": {},
   "outputs": [
    {
     "data": {
      "text/plain": [
       "9"
      ]
     },
     "execution_count": 11,
     "metadata": {},
     "output_type": "execute_result"
    }
   ],
   "source": [
    "tensor_uninitialized= torch.Tensor(3,3)    # created 2D array\n",
    "torch.numel(tensor_uninitialized)          # numel returns no of elements in a tensor"
   ]
  },
  {
   "cell_type": "code",
   "execution_count": 12,
   "metadata": {},
   "outputs": [
    {
     "data": {
      "text/plain": [
       "tensor([[ 0.0000e+00,  0.0000e+00,  3.9852e-21],\n",
       "        [ 5.1848e-44, -4.0968e+15,  8.3097e-43],\n",
       "        [ 1.1070e-43,  0.0000e+00,  0.0000e+00]])"
      ]
     },
     "execution_count": 12,
     "metadata": {},
     "output_type": "execute_result"
    }
   ],
   "source": [
    "tensor_uninitialized"
   ]
  },
  {
   "cell_type": "code",
   "execution_count": 14,
   "metadata": {},
   "outputs": [
    {
     "data": {
      "text/plain": [
       "tensor([[0.8349, 0.4843, 0.1481],\n",
       "        [0.5463, 0.7692, 0.3081],\n",
       "        [0.1237, 0.7667, 0.9988]])"
      ]
     },
     "execution_count": 14,
     "metadata": {},
     "output_type": "execute_result"
    }
   ],
   "source": [
    "tensor_intialized=torch.rand(3,3)      # randomly initialized\n",
    "tensor_intialized"
   ]
  },
  {
   "cell_type": "code",
   "execution_count": 15,
   "metadata": {},
   "outputs": [
    {
     "data": {
      "text/plain": [
       "tensor([[-1,  0,  1],\n",
       "        [ 0,  0,  0],\n",
       "        [ 0,  0,  0],\n",
       "        [ 0,  0,  0],\n",
       "        [-1,  0,  0]], dtype=torch.int32)"
      ]
     },
     "execution_count": 15,
     "metadata": {},
     "output_type": "execute_result"
    }
   ],
   "source": [
    "tensor_int=torch.randn(5,3).type(torch.IntTensor)     # type= integer\n",
    "tensor_int"
   ]
  },
  {
   "cell_type": "code",
   "execution_count": 16,
   "metadata": {},
   "outputs": [
    {
     "data": {
      "text/plain": [
       "tensor([5, 3, 2])"
      ]
     },
     "execution_count": 16,
     "metadata": {},
     "output_type": "execute_result"
    }
   ],
   "source": [
    "tensor_long=torch.LongTensor([5.0,3.2,2.0])     # float value\n",
    "tensor_long"
   ]
  },
  {
   "cell_type": "code",
   "execution_count": 17,
   "metadata": {},
   "outputs": [
    {
     "data": {
      "text/plain": [
       "tensor([  0,   5,   1, 251], dtype=torch.uint8)"
      ]
     },
     "execution_count": 17,
     "metadata": {},
     "output_type": "execute_result"
    }
   ],
   "source": [
    "tensor_byte=torch.ByteTensor([0,261,1,-5])     # value range is 0 to 255. any value not in range will express relative to 255\n",
    "tensor_byte"
   ]
  },
  {
   "cell_type": "code",
   "execution_count": 19,
   "metadata": {},
   "outputs": [
    {
     "data": {
      "text/plain": [
       "tensor([1., 1., 1., 1., 1., 1., 1., 1., 1., 1.])"
      ]
     },
     "execution_count": 19,
     "metadata": {},
     "output_type": "execute_result"
    }
   ],
   "source": [
    "tensor_one=torch.ones(10)     # print 1 values \n",
    "tensor_one"
   ]
  },
  {
   "cell_type": "code",
   "execution_count": 21,
   "metadata": {},
   "outputs": [
    {
     "data": {
      "text/plain": [
       "tensor([0., 0., 0., 0., 0., 0., 0., 0., 0., 0.])"
      ]
     },
     "execution_count": 21,
     "metadata": {},
     "output_type": "execute_result"
    }
   ],
   "source": [
    "tensor_zero=torch.zeros(10)     # print zeros\n",
    "tensor_zero"
   ]
  },
  {
   "cell_type": "code",
   "execution_count": 23,
   "metadata": {},
   "outputs": [
    {
     "data": {
      "text/plain": [
       "tensor([[1., 0., 0.],\n",
       "        [0., 1., 0.],\n",
       "        [0., 0., 1.]])"
      ]
     },
     "execution_count": 23,
     "metadata": {},
     "output_type": "execute_result"
    }
   ],
   "source": [
    "tensor_eye=torch.eye(3)     # .eye will give a square matrix with all diagonal as value 1\n",
    "tensor_eye"
   ]
  },
  {
   "cell_type": "code",
   "execution_count": 24,
   "metadata": {},
   "outputs": [
    {
     "data": {
      "text/plain": [
       "tensor([[0, 0],\n",
       "        [1, 1],\n",
       "        [2, 2]])"
      ]
     },
     "execution_count": 24,
     "metadata": {},
     "output_type": "execute_result"
    }
   ],
   "source": [
    "tensor_nonzero=torch.nonzero(tensor_eye)     # .nonzero will give positions of non zero elements\n",
    "tensor_nonzero"
   ]
  },
  {
   "cell_type": "code",
   "execution_count": 25,
   "metadata": {},
   "outputs": [
    {
     "data": {
      "text/plain": [
       "tensor([[1., 1., 1.],\n",
       "        [1., 1., 1.],\n",
       "        [1., 1., 1.]])"
      ]
     },
     "execution_count": 25,
     "metadata": {},
     "output_type": "execute_result"
    }
   ],
   "source": [
    "tensor_ones_shape_eye=torch.ones_like(tensor_eye)     # .ones_like will give one value of same shape\n",
    "tensor_ones_shape_eye"
   ]
  },
  {
   "cell_type": "code",
   "execution_count": 26,
   "metadata": {},
   "outputs": [
    {
     "data": {
      "text/plain": [
       "tensor([[3., 3., 3.],\n",
       "        [3., 3., 3.],\n",
       "        [3., 3., 3.]])"
      ]
     },
     "execution_count": 26,
     "metadata": {},
     "output_type": "execute_result"
    }
   ],
   "source": [
    "# tensors performs two kind of operations\n",
    "# In place operation : this operation modify the existing tensor \n",
    "# Out of place operation : This generates a new tensor\n",
    "\n",
    "initial_tensor= torch.rand(3,3)      # generates a new tensor and fill value 3 for all position (in place operation)\n",
    "initial_tensor.fill_(3)"
   ]
  },
  {
   "cell_type": "code",
   "execution_count": 27,
   "metadata": {},
   "outputs": [
    {
     "data": {
      "text/plain": [
       "tensor([[7., 7., 7.],\n",
       "        [7., 7., 7.],\n",
       "        [7., 7., 7.]])"
      ]
     },
     "execution_count": 27,
     "metadata": {},
     "output_type": "execute_result"
    }
   ],
   "source": [
    "new_tensor = initial_tensor.add(4)    # out of place operation so suffix\"_\" is not used here\n",
    "new_tensor"
   ]
  },
  {
   "cell_type": "code",
   "execution_count": 28,
   "metadata": {},
   "outputs": [
    {
     "data": {
      "text/plain": [
       "tensor([[8., 8., 8.],\n",
       "        [8., 8., 8.],\n",
       "        [8., 8., 8.]])"
      ]
     },
     "execution_count": 28,
     "metadata": {},
     "output_type": "execute_result"
    }
   ],
   "source": [
    "initial_tensor.add_(5)      #in place operation \n",
    "initial_tensor"
   ]
  },
  {
   "cell_type": "code",
   "execution_count": 32,
   "metadata": {},
   "outputs": [
    {
     "data": {
      "text/plain": [
       "array([1, 2, 3])"
      ]
     },
     "execution_count": 32,
     "metadata": {},
     "output_type": "execute_result"
    }
   ],
   "source": [
    "import numpy as np\n",
    "numpy_arr= np.array([1,2,3])       # array using numpy\n",
    "numpy_arr"
   ]
  },
  {
   "cell_type": "code",
   "execution_count": 33,
   "metadata": {},
   "outputs": [
    {
     "data": {
      "text/plain": [
       "tensor([1, 2, 3], dtype=torch.int32)"
      ]
     },
     "execution_count": 33,
     "metadata": {},
     "output_type": "execute_result"
    }
   ],
   "source": [
    "tensor= torch.from_numpy(numpy_arr)   # fetching the same from numpy display same result as a tensor\n",
    "tensor"
   ]
  },
  {
   "cell_type": "code",
   "execution_count": 34,
   "metadata": {},
   "outputs": [
    {
     "data": {
      "text/plain": [
       "array([1, 2, 3])"
      ]
     },
     "execution_count": 34,
     "metadata": {},
     "output_type": "execute_result"
    }
   ],
   "source": [
    "numpy_from_tensor = tensor.numpy()\n",
    "numpy_from_tensor"
   ]
  },
  {
   "cell_type": "code",
   "execution_count": 35,
   "metadata": {},
   "outputs": [
    {
     "data": {
      "text/plain": [
       "array([1, 4, 3])"
      ]
     },
     "execution_count": 35,
     "metadata": {},
     "output_type": "execute_result"
    }
   ],
   "source": [
    "numpy_arr[1]=4      #update the array index\n",
    "numpy_arr"
   ]
  },
  {
   "cell_type": "code",
   "execution_count": 36,
   "metadata": {},
   "outputs": [
    {
     "data": {
      "text/plain": [
       "tensor([1, 4, 3], dtype=torch.int32)"
      ]
     },
     "execution_count": 36,
     "metadata": {},
     "output_type": "execute_result"
    }
   ],
   "source": [
    "tensor         # tensor is also getting updated automatically once array updated\n",
    "                #"
   ]
  },
  {
   "cell_type": "code",
   "execution_count": 37,
   "metadata": {},
   "outputs": [
    {
     "data": {
      "text/plain": [
       "'C:\\\\Users\\\\suvanje13799'"
      ]
     },
     "execution_count": 37,
     "metadata": {},
     "output_type": "execute_result"
    }
   ],
   "source": [
    "%pwd\n"
   ]
  }
 ],
 "metadata": {
  "kernelspec": {
   "display_name": "Python 3",
   "language": "python",
   "name": "python3"
  },
  "language_info": {
   "codemirror_mode": {
    "name": "ipython",
    "version": 3
   },
   "file_extension": ".py",
   "mimetype": "text/x-python",
   "name": "python",
   "nbconvert_exporter": "python",
   "pygments_lexer": "ipython3",
   "version": "3.6.5"
  }
 },
 "nbformat": 4,
 "nbformat_minor": 2
}
