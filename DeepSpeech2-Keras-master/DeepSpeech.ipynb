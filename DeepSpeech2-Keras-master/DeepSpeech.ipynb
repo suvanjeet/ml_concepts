{
 "cells": [
  {
   "cell_type": "code",
   "execution_count": 1,
   "metadata": {
    "collapsed": true
   },
   "outputs": [],
   "source": [
    "import tensorflow as tf\n",
    "from tensorflow.python.keras.models import Sequential, Model\n",
    "from tensorflow.python.keras.callbacks import Callback\n",
    "from tensorflow.python.keras.layers import *\n",
    "from tensorflow.python.keras.optimizers import Adam, SGD\n",
    "from tensorflow.python.keras.activations import relu\n",
    "from tensorflow.python.keras.metrics import categorical_accuracy, mean_squared_error\n",
    "from tensorflow.python.keras.callbacks import BaseLogger, ModelCheckpoint, EarlyStopping, TensorBoard, ReduceLROnPlateau\n",
    "from tensorflow.python.keras import backend as K\n",
    "from tensorflow.python.keras.initializers import Ones, Zeros, glorot_normal\n",
    "from tensorflow.python.framework import tensor_shape\n",
    "from data_generator import DataGenerator\n",
    "\n",
    "import numpy as np"
   ]
  },
  {
   "cell_type": "code",
   "execution_count": 2,
   "metadata": {
    "collapsed": true
   },
   "outputs": [],
   "source": [
    "def clipped_relu(x):\n",
    "    return relu(x, max_value=20)\n",
    "\n",
    "def ctc_lambda_func(args):\n",
    "    labels, y_pred, input_length, label_length = args\n",
    "    return K.ctc_batch_cost(labels, y_pred, input_length, label_length)\n",
    "\n",
    "def ctc(y_true, y_pred):\n",
    "    return y_pred"
   ]
  },
  {
   "cell_type": "code",
   "execution_count": 23,
   "metadata": {
    "collapsed": true
   },
   "outputs": [],
   "source": [
    "def get_speech_model():\n",
    "    model = Sequential()\n",
    "    \n",
    "    # Batch normalize the input\n",
    "    model.add(BatchNormalization(axis=-1, input_shape=(None, 161), name='BN_1'))\n",
    "    \n",
    "    # 1D Convs\n",
    "    model.add(Conv1D(512, 5, strides=1, activation=clipped_relu, name='Conv1D_1'))\n",
    "    model.add(Conv1D(512, 5, strides=1, activation=clipped_relu, name='Conv1D_2'))\n",
    "    model.add(Conv1D(512, 5, strides=2, activation=clipped_relu, name='Conv1D_3'))\n",
    "    \n",
    "    # Batch Normalization\n",
    "    model.add(BatchNormalization(axis=-1, name='BN_2'))\n",
    "    \n",
    "    # BiRNNs\n",
    "    model.add(Bidirectional(SimpleRNN(1280, return_sequences=True, name='BiRNN_1'), merge_mode='sum'))\n",
    "    model.add(Bidirectional(SimpleRNN(1280, return_sequences=True, name='BiRNN_2'), merge_mode='sum'))\n",
    "    model.add(Bidirectional(SimpleRNN(1280, return_sequences=True, name='BiRNN_3'), merge_mode='sum'))\n",
    "    model.add(Bidirectional(SimpleRNN(1280, return_sequences=True, name='BiRNN_4'), merge_mode='sum'))\n",
    "    model.add(Bidirectional(SimpleRNN(1280, return_sequences=True, name='BiRNN_5'), merge_mode='sum'))\n",
    "    model.add(Bidirectional(SimpleRNN(1280, return_sequences=True, name='BiRNN_6'), merge_mode='sum'))\n",
    "    model.add(Bidirectional(SimpleRNN(1280, return_sequences=True, name='BiRNN_7'), merge_mode='sum'))\n",
    "    \n",
    "    # Batch Normalization\n",
    "    model.add(BatchNormalization(axis=-1, name='BN_3'))\n",
    "    \n",
    "    # FC\n",
    "    model.add(TimeDistributed(Dense(1024, activation=clipped_relu, name='FC1')))\n",
    "    model.add(TimeDistributed(Dense(29, activation='softmax', name='y_pred')))\n",
    "    return model\n",
    "\n",
    "def get_trainable_speech_model():\n",
    "    model = get_speech_model()\n",
    "    y_pred = model.outputs[0]\n",
    "    model_input = model.inputs[0]\n",
    "    \n",
    "    model.summary()\n",
    "    \n",
    "    labels = Input(name='the_labels', shape=[None,], dtype='int32')\n",
    "    input_length = Input(name='input_length', shape=[1], dtype='int32')\n",
    "    label_length = Input(name='label_length', shape=[1], dtype='int32')\n",
    "\n",
    "    loss_out = Lambda(ctc_lambda_func, name='ctc')([labels, y_pred, input_length, label_length])\n",
    "    trainable_model = Model(inputs=[model_input, labels, input_length, label_length], outputs=loss_out)\n",
    "    return trainable_model"
   ]
  },
  {
   "cell_type": "code",
   "execution_count": 24,
   "metadata": {},
   "outputs": [
    {
     "name": "stdout",
     "output_type": "stream",
     "text": [
      "_________________________________________________________________\n",
      "Layer (type)                 Output Shape              Param #   \n",
      "=================================================================\n",
      "BN_1 (BatchNormalization)    (None, None, 161)         644       \n",
      "_________________________________________________________________\n",
      "Conv1D_1 (Conv1D)            (None, None, 512)         412672    \n",
      "_________________________________________________________________\n",
      "Conv1D_2 (Conv1D)            (None, None, 512)         1311232   \n",
      "_________________________________________________________________\n",
      "Conv1D_3 (Conv1D)            (None, None, 512)         1311232   \n",
      "_________________________________________________________________\n",
      "BN_2 (BatchNormalization)    (None, None, 512)         2048      \n",
      "_________________________________________________________________\n",
      "bidirectional_40 (Bidirectio (None, None, 1280)        4590080   \n",
      "_________________________________________________________________\n",
      "bidirectional_41 (Bidirectio (None, None, 1280)        6556160   \n",
      "_________________________________________________________________\n",
      "bidirectional_42 (Bidirectio (None, None, 1280)        6556160   \n",
      "_________________________________________________________________\n",
      "bidirectional_43 (Bidirectio (None, None, 1280)        6556160   \n",
      "_________________________________________________________________\n",
      "bidirectional_44 (Bidirectio (None, None, 1280)        6556160   \n",
      "_________________________________________________________________\n",
      "bidirectional_45 (Bidirectio (None, None, 1280)        6556160   \n",
      "_________________________________________________________________\n",
      "bidirectional_46 (Bidirectio (None, None, 1280)        6556160   \n",
      "_________________________________________________________________\n",
      "BN_3 (BatchNormalization)    (None, None, 1280)        5120      \n",
      "_________________________________________________________________\n",
      "time_distributed_14 (TimeDis (None, None, 1024)        1311744   \n",
      "_________________________________________________________________\n",
      "time_distributed_15 (TimeDis (None, None, 29)          29725     \n",
      "=================================================================\n",
      "Total params: 48,311,457\n",
      "Trainable params: 48,307,551\n",
      "Non-trainable params: 3,906\n",
      "_________________________________________________________________\n",
      "____________________________________________________________________________________________________\n",
      "Layer (type)                     Output Shape          Param #     Connected to                     \n",
      "====================================================================================================\n",
      "BN_1_input (InputLayer)          (None, None, 161)     0                                            \n",
      "____________________________________________________________________________________________________\n",
      "BN_1 (BatchNormalization)        (None, None, 161)     644         BN_1_input[0][0]                 \n",
      "____________________________________________________________________________________________________\n",
      "Conv1D_1 (Conv1D)                (None, None, 512)     412672      BN_1[0][0]                       \n",
      "____________________________________________________________________________________________________\n",
      "Conv1D_2 (Conv1D)                (None, None, 512)     1311232     Conv1D_1[0][0]                   \n",
      "____________________________________________________________________________________________________\n",
      "Conv1D_3 (Conv1D)                (None, None, 512)     1311232     Conv1D_2[0][0]                   \n",
      "____________________________________________________________________________________________________\n",
      "BN_2 (BatchNormalization)        (None, None, 512)     2048        Conv1D_3[0][0]                   \n",
      "____________________________________________________________________________________________________\n",
      "bidirectional_40 (Bidirectional) (None, None, 1280)    4590080     BN_2[0][0]                       \n",
      "____________________________________________________________________________________________________\n",
      "bidirectional_41 (Bidirectional) (None, None, 1280)    6556160     bidirectional_40[0][0]           \n",
      "____________________________________________________________________________________________________\n",
      "bidirectional_42 (Bidirectional) (None, None, 1280)    6556160     bidirectional_41[0][0]           \n",
      "____________________________________________________________________________________________________\n",
      "bidirectional_43 (Bidirectional) (None, None, 1280)    6556160     bidirectional_42[0][0]           \n",
      "____________________________________________________________________________________________________\n",
      "bidirectional_44 (Bidirectional) (None, None, 1280)    6556160     bidirectional_43[0][0]           \n",
      "____________________________________________________________________________________________________\n",
      "bidirectional_45 (Bidirectional) (None, None, 1280)    6556160     bidirectional_44[0][0]           \n",
      "____________________________________________________________________________________________________\n",
      "bidirectional_46 (Bidirectional) (None, None, 1280)    6556160     bidirectional_45[0][0]           \n",
      "____________________________________________________________________________________________________\n",
      "BN_3 (BatchNormalization)        (None, None, 1280)    5120        bidirectional_46[0][0]           \n",
      "____________________________________________________________________________________________________\n",
      "time_distributed_14 (TimeDistrib (None, None, 1024)    1311744     BN_3[0][0]                       \n",
      "____________________________________________________________________________________________________\n",
      "the_labels (InputLayer)          (None, None)          0                                            \n",
      "____________________________________________________________________________________________________\n",
      "time_distributed_15 (TimeDistrib (None, None, 29)      29725       time_distributed_14[0][0]        \n",
      "____________________________________________________________________________________________________\n",
      "input_length (InputLayer)        (None, 1)             0                                            \n",
      "____________________________________________________________________________________________________\n",
      "label_length (InputLayer)        (None, 1)             0                                            \n",
      "____________________________________________________________________________________________________\n",
      "ctc (Lambda)                     (None, 1)             0           the_labels[0][0]                 \n",
      "                                                                   time_distributed_15[0][0]        \n",
      "                                                                   input_length[0][0]               \n",
      "                                                                   label_length[0][0]               \n",
      "====================================================================================================\n",
      "Total params: 48,311,457\n",
      "Trainable params: 48,307,551\n",
      "Non-trainable params: 3,906\n",
      "____________________________________________________________________________________________________\n"
     ]
    }
   ],
   "source": [
    "model = get_trainable_speech_model()\n",
    "model.summary()"
   ]
  },
  {
   "cell_type": "code",
   "execution_count": 23,
   "metadata": {
    "collapsed": true
   },
   "outputs": [],
   "source": [
    "data_gen = DataGenerator()\n",
    "data_gen.load_test_data('data/LibriSpeechTest/')\n",
    "data_gen.load_validation_data('data/LibriSpeechDev/')\n",
    "data_gen.load_train_data('data/LibriSpeechTrain/')\n",
    "data_gen.fit_train(100)"
   ]
  },
  {
   "cell_type": "code",
   "execution_count": 24,
   "metadata": {},
   "outputs": [
    {
     "name": "stdout",
     "output_type": "stream",
     "text": [
      "Train set: 20548 \n",
      "Val set: 2136 \n",
      "Test set: 2007\n"
     ]
    }
   ],
   "source": [
    "assert(len(data_gen.train_audio_paths) == len(data_gen.train_durations)) \n",
    "assert(len(data_gen.train_durations) == len(data_gen.train_texts))\n",
    "\n",
    "assert(len(data_gen.val_audio_paths) == len(data_gen.val_durations)) \n",
    "assert(len(data_gen.val_durations) == len(data_gen.val_texts))\n",
    "\n",
    "assert(len(data_gen.test_audio_paths) == len(data_gen.test_durations)) \n",
    "assert(len(data_gen.test_durations) == len(data_gen.test_texts))\n",
    "\n",
    "print('Train set:', len(data_gen.train_audio_paths), \n",
    "      '\\nVal set:', len(data_gen.val_audio_paths), \n",
    "      '\\nTest set:', len(data_gen.test_audio_paths))"
   ]
  },
  {
   "cell_type": "code",
   "execution_count": null,
   "metadata": {
    "collapsed": true
   },
   "outputs": [],
   "source": []
  }
 ],
 "metadata": {
  "kernelspec": {
   "display_name": "Python 3",
   "language": "python",
   "name": "python3"
  },
  "language_info": {
   "codemirror_mode": {
    "name": "ipython",
    "version": 3
   },
   "file_extension": ".py",
   "mimetype": "text/x-python",
   "name": "python",
   "nbconvert_exporter": "python",
   "pygments_lexer": "ipython3",
   "version": "3.6.5"
  },
  "widgets": {
   "state": {},
   "version": "1.1.2"
  }
 },
 "nbformat": 4,
 "nbformat_minor": 2
}
