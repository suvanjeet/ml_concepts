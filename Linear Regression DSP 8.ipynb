{
 "cells": [
  {
   "cell_type": "code",
   "execution_count": 1,
   "metadata": {
    "collapsed": true
   },
   "outputs": [],
   "source": [
    "# imports\n",
    "import pandas as pd\n",
    "import matplotlib.pyplot as plt\n",
    "\n",
    "%matplotlib inline"
   ]
  },
  {
   "cell_type": "code",
   "execution_count": 2,
   "metadata": {
    "scrolled": true
   },
   "outputs": [
    {
     "data": {
      "text/html": [
       "<div>\n",
       "<style>\n",
       "    .dataframe thead tr:only-child th {\n",
       "        text-align: right;\n",
       "    }\n",
       "\n",
       "    .dataframe thead th {\n",
       "        text-align: left;\n",
       "    }\n",
       "\n",
       "    .dataframe tbody tr th {\n",
       "        vertical-align: top;\n",
       "    }\n",
       "</style>\n",
       "<table border=\"1\" class=\"dataframe\">\n",
       "  <thead>\n",
       "    <tr style=\"text-align: right;\">\n",
       "      <th></th>\n",
       "      <th>TV</th>\n",
       "      <th>radio</th>\n",
       "      <th>newspaper</th>\n",
       "      <th>sales</th>\n",
       "    </tr>\n",
       "  </thead>\n",
       "  <tbody>\n",
       "    <tr>\n",
       "      <th>1</th>\n",
       "      <td>230.1</td>\n",
       "      <td>37.8</td>\n",
       "      <td>69.2</td>\n",
       "      <td>22.1</td>\n",
       "    </tr>\n",
       "    <tr>\n",
       "      <th>2</th>\n",
       "      <td>44.5</td>\n",
       "      <td>39.3</td>\n",
       "      <td>45.1</td>\n",
       "      <td>10.4</td>\n",
       "    </tr>\n",
       "    <tr>\n",
       "      <th>3</th>\n",
       "      <td>17.2</td>\n",
       "      <td>45.9</td>\n",
       "      <td>69.3</td>\n",
       "      <td>9.3</td>\n",
       "    </tr>\n",
       "    <tr>\n",
       "      <th>4</th>\n",
       "      <td>151.5</td>\n",
       "      <td>41.3</td>\n",
       "      <td>58.5</td>\n",
       "      <td>18.5</td>\n",
       "    </tr>\n",
       "    <tr>\n",
       "      <th>5</th>\n",
       "      <td>180.8</td>\n",
       "      <td>10.8</td>\n",
       "      <td>58.4</td>\n",
       "      <td>12.9</td>\n",
       "    </tr>\n",
       "  </tbody>\n",
       "</table>\n",
       "</div>"
      ],
      "text/plain": [
       "      TV  radio  newspaper  sales\n",
       "1  230.1   37.8       69.2   22.1\n",
       "2   44.5   39.3       45.1   10.4\n",
       "3   17.2   45.9       69.3    9.3\n",
       "4  151.5   41.3       58.5   18.5\n",
       "5  180.8   10.8       58.4   12.9"
      ]
     },
     "execution_count": 2,
     "metadata": {},
     "output_type": "execute_result"
    }
   ],
   "source": [
    "# read data into a DataFrame\n",
    "data = pd.read_csv('Advertising.csv', index_col=0)\n",
    "data.head()"
   ]
  },
  {
   "cell_type": "code",
   "execution_count": 3,
   "metadata": {},
   "outputs": [
    {
     "name": "stdout",
     "output_type": "stream",
     "text": [
      "TV           float64\n",
      "radio        float64\n",
      "newspaper    float64\n",
      "sales        float64\n",
      "dtype: object\n",
      "(200, 4)\n",
      "               TV       radio   newspaper       sales\n",
      "count  200.000000  200.000000  200.000000  200.000000\n",
      "mean   147.042500   23.264000   30.554000   14.022500\n",
      "std     85.854236   14.846809   21.778621    5.217457\n",
      "min      0.700000    0.000000    0.300000    1.600000\n",
      "25%     74.375000    9.975000   12.750000   10.375000\n",
      "50%    149.750000   22.900000   25.750000   12.900000\n",
      "75%    218.825000   36.525000   45.100000   17.400000\n",
      "max    296.400000   49.600000  114.000000   27.000000\n"
     ]
    }
   ],
   "source": [
    "print(data.dtypes)\n",
    "print(data.shape)\n",
    "print(data.describe())"
   ]
  },
  {
   "cell_type": "code",
   "execution_count": 4,
   "metadata": {
    "collapsed": true
   },
   "outputs": [],
   "source": [
    "# create X and y\n",
    "feature_cols = ['TV', 'radio', 'newspaper']\n",
    "X = data[feature_cols]\n",
    "Y = data.sales\n"
   ]
  },
  {
   "cell_type": "code",
   "execution_count": 5,
   "metadata": {
    "scrolled": true
   },
   "outputs": [
    {
     "data": {
      "text/plain": [
       "<seaborn.axisgrid.PairGrid at 0x1ffeb85e5c0>"
      ]
     },
     "execution_count": 5,
     "metadata": {},
     "output_type": "execute_result"
    },
    {
     "data": {
      "image/png": "[encoded data removed]",
      "text/plain": [
       "<matplotlib.figure.Figure at 0x1ffeb85e940>"
      ]
     },
     "metadata": {},
     "output_type": "display_data"
    }
   ],
   "source": [
    "import seaborn as sns\n",
    "sns.pairplot(data,x_vars=[\"TV\",\"radio\",\"newspaper\"],y_vars=\"sales\",kind='reg')"
   ]
  },
  {
   "cell_type": "code",
   "execution_count": null,
   "metadata": {
    "collapsed": true
   },
   "outputs": [],
   "source": []
  },
  {
   "cell_type": "code",
   "execution_count": 6,
   "metadata": {},
   "outputs": [
    {
     "name": "stdout",
     "output_type": "stream",
     "text": [
      "[[  9.69852266e-01   9.81522472e-01   1.77894547e+00]\n",
      " [ -1.19737623e+00   1.08280781e+00   6.69578760e-01]\n",
      " [ -1.51615499e+00   1.52846331e+00   1.78354865e+00]\n",
      " [  5.20496822e-02   1.21785493e+00   1.28640506e+00]\n",
      " [  3.94182198e-01  -8.41613655e-01   1.28180188e+00]\n",
      " [ -1.61540845e+00   1.73103399e+00   2.04592999e+00]\n",
      " [ -1.04557682e+00   6.43904671e-01  -3.24708413e-01]\n",
      " [ -3.13436589e-01  -2.47406325e-01  -8.72486994e-01]\n",
      " [ -1.61657614e+00  -1.42906863e+00  -1.36042422e+00]\n",
      " [  6.16042873e-01  -1.39530685e+00  -4.30581584e-01]\n",
      " [ -9.45155670e-01  -1.17923146e+00  -2.92486143e-01]\n",
      " [  7.90028350e-01   4.96973404e-02  -1.22232878e+00]\n",
      " [ -1.43908760e+00   7.99208859e-01   1.62704048e+00]\n",
      " [ -5.78501712e-01  -1.05768905e+00  -1.07502697e+00]\n",
      " [  6.66253447e-01   6.50657027e-01   7.11007392e-01]\n",
      " [  5.64664612e-01   1.65000572e+00   1.02862691e+00]\n",
      " [ -9.25304978e-01   9.00494200e-01   3.84117072e+00]\n",
      " [  1.56887609e+00   1.10306488e+00   1.16211917e+00]\n",
      " [ -9.08957349e-01  -1.86635121e-01  -5.64073843e-01]\n",
      " [  3.00679600e-03   4.29449843e-02  -5.27248393e-01]\n",
      " [  8.33232798e-01   2.99534513e-01   1.05164281e+00]\n",
      " [  1.05509347e+00  -1.22649795e+00  -3.24708413e-01]\n",
      " [ -1.56286250e+00  -4.97243498e-01   8.76721921e-01]\n",
      " [  9.48833887e-01  -4.29719938e-01  -2.00422516e-01]\n",
      " [ -9.89527805e-01  -7.20071247e-01  -5.64073843e-01]\n",
      " [  1.35285385e+00  -1.33453565e+00  -5.08835667e-01]\n",
      " [ -4.83714657e-02   4.07572210e-01  -8.26455181e-01]\n",
      " [  1.08662104e+00  -4.43224650e-01  -3.52327501e-01]\n",
      " [  1.18820988e+00   2.59020377e-01  -3.52327501e-01]\n",
      " [ -8.92609721e-01  -4.90491142e-01   4.71641962e-01]\n",
      " [  1.70316018e+00   3.40048650e-01   5.82118314e-01]\n",
      " [ -3.98677796e-01  -3.95958157e-01   3.70371972e-01]\n",
      " [ -5.82004775e-01  -1.46958277e+00  -2.55016247e-02]\n",
      " [  1.38438142e+00  -2.20396901e-01  -1.39264649e+00]\n",
      " [ -5.99520091e-01  -1.47633512e+00  -1.06582061e+00]\n",
      " [  1.67747105e+00  -1.29402151e+00  -1.01518562e+00]\n",
      " [  1.39956136e+00   1.38666383e+00  -1.17629696e+00]\n",
      " [ -8.44734522e-01   1.76479577e+00   6.97197848e-01]\n",
      " [ -1.21372386e+00   2.32010953e-01   2.09260624e-01]\n",
      " [  9.45330823e-01   9.74770116e-01   6.65620024e-02]\n",
      " [  6.47570443e-01  -6.50927121e-02   4.81492770e-02]\n",
      " [  3.49810063e-01   6.84418807e-01   3.74975153e-01]\n",
      " [  1.71133400e+00   2.99534513e-01  -1.32359877e+00]\n",
      " [  6.98948705e-01  -1.00367020e+00  -1.91216154e-01]\n",
      " [ -1.42390765e+00   1.64487393e-01   5.86721496e-01]\n",
      " [  3.27623995e-01  -5.15880000e-02   4.35460956e-02]\n",
      " [ -6.69581357e-01  -9.02384859e-01   2.36879713e-01]\n",
      " [  1.08428567e+00   1.23135965e+00  -5.54867481e-01]\n",
      " [  9.35989321e-01  -5.03995854e-01   8.90531465e-01]\n",
      " [ -9.35814168e-01  -7.80842451e-01   2.87514708e-01]\n",
      " [  6.16042873e-01  -1.36154507e+00   1.86244718e-01]\n",
      " [ -5.44638766e-01  -9.22641928e-01  -1.24074150e+00]\n",
      " [  8.09879042e-01   1.24486436e+00   4.16403786e-01]\n",
      " [  4.15200577e-01   1.54872038e+00   1.29561142e+00]\n",
      " [  1.35051848e+00   3.73810430e-01  -6.74550196e-01]\n",
      " [  6.05533683e-01   1.76479577e+00   1.35545278e+00]\n",
      " [ -1.63175608e+00   3.26543937e-01   4.99261050e-01]\n",
      " [ -1.26606546e-01  -2.74415749e-01  -6.42327927e-01]\n",
      " [  7.44488528e-01   1.77830048e+00   3.28943340e-01]\n",
      " [  7.43320840e-01   4.21076922e-01  -9.78360166e-01]\n",
      " [ -1.09228433e+00  -1.43582099e+00  -4.21375221e-01]\n",
      " [  1.33417085e+00   1.31238792e+00   1.11148417e+00]\n",
      " [  1.07727954e+00  -5.24252922e-01  -1.49787521e-01]\n",
      " [ -5.17781948e-01   4.27829278e-01  -1.01978880e+00]\n",
      " [ -1.86158622e-01   1.31914027e+00  -7.61366196e-02]\n",
      " [ -9.11292725e-01  -9.42898996e-01  -1.36502740e+00]\n",
      " [ -1.34917564e+00   9.02114765e-02  -1.30518604e+00]\n",
      " [ -9.04082253e-02  -5.91776482e-01  -9.36931533e-01]\n",
      " [  1.05509347e+00   2.86029801e-01  -9.00106083e-01]\n",
      " [  8.14549794e-01   1.39341619e+00  -1.54390703e-01]\n",
      " [  6.07869059e-01   4.95352838e-01   3.74975153e-01]\n",
      " [ -4.34876116e-01  -6.05281194e-01   5.27524584e-02]\n",
      " [ -1.40405696e+00   6.57409383e-01  -5.18042030e-01]\n",
      " [ -2.06009314e-01  -1.18598381e+00   3.43397329e-02]\n",
      " [  7.74848409e-01   9.02114765e-02  -8.03439274e-01]\n",
      " [ -1.51965805e+00   1.37991148e+00   2.70878810e+00]\n",
      " [ -1.39588315e+00  -1.46283041e+00  -4.53597491e-01]\n",
      " [ -3.09933525e-01   3.53553362e-01  -7.52804279e-01]\n",
      " [ -1.65394214e+00   4.48086346e-01  -9.73756984e-01]\n",
      " [ -3.62479475e-01  -1.05093669e+00  -3.43121138e-01]\n",
      " [ -8.24883830e-01   2.32010953e-01  -3.79946589e-01]\n",
      " [  1.08311798e+00  -1.29402151e+00   2.92117889e-01]\n",
      " [ -8.37728396e-01  -2.00139833e-01   8.95779092e-02]\n",
      " [ -9.18298852e-01   1.43393033e+00   2.32276531e-01]\n",
      " [  7.76016097e-01   1.33264499e+00   1.49419267e-01]\n",
      " [  5.38975481e-01  -3.28434597e-01   1.61783412e+00]\n",
      " [ -8.26051518e-01   2.86029801e-01  -6.69947015e-01]\n",
      " [ -4.24366926e-01   1.17058844e+00   1.50275459e+00]\n",
      " [ -6.85928986e-01   1.50982681e-01   1.97227908e+00]\n",
      " [ -4.34876116e-01   1.65675807e+00   9.59579186e-01]\n",
      " [ -1.48792614e-01  -1.24000266e+00  -9.78360166e-01]\n",
      " [ -1.38303858e+00  -1.46958277e+00   1.12593816e-01]\n",
      " [  8.25058983e-01   6.91171163e-01   1.30942097e+00]\n",
      " [  1.21273132e+00   8.93741844e-01   1.92164409e+00]\n",
      " [ -4.62900623e-01  -6.25538262e-01  -9.04709264e-01]\n",
      " [  1.89836839e-01   5.62876398e-01   1.02862691e+00]\n",
      " [  5.90353742e-01  -1.33453565e+00  -1.13486833e+00]\n",
      " [  4.42057396e-01  -1.52873340e-01  -3.93756133e-01]\n",
      " [  1.66579418e+00   1.28537849e+00   9.50372823e-01]\n",
      " [ -1.38283424e-01   1.24486436e+00   7.06404211e-01]\n",
      " [  8.79940308e-01  -1.28051680e+00   8.85928284e-01]\n",
      " [  1.74402926e+00   8.80237132e-01   3.23815396e+00]\n",
      " [  1.55486384e+00  -8.88880147e-01  -4.21375221e-01]\n",
      " [  4.77088029e-01  -4.09462869e-01  -5.82486569e-01]\n",
      " [  1.06443498e+00   7.45190011e-01  -1.16248742e+00]\n",
      " [ -1.06755854e-01   1.56222509e+00   1.30942097e+00]\n",
      " [ -1.42507534e+00  -8.28108943e-01  -3.93111688e-02]\n",
      " [ -6.61407543e-01  -1.55061104e+00  -3.38517957e-01]\n",
      " [ -1.56403019e+00  -1.54385868e+00  -2.28041604e-01]\n",
      " [  1.26527727e+00   2.45515665e-01  -1.15328106e+00]\n",
      " [  9.19641692e-01  -1.01717491e+00   1.19434143e+00]\n",
      " [  1.10530405e+00   9.95027184e-01  -3.38517957e-01]\n",
      " [  3.34630122e-01  -5.31005278e-01  -1.29597968e+00]\n",
      " [  7.30476274e-01  -1.79882765e-01  -9.13915627e-01]\n",
      " [ -8.03865450e-01   1.58923451e+00   1.81641536e-01]\n",
      " [ -8.40063771e-01   7.92456503e-01   1.01942054e+00]\n",
      " [ -9.15759131e-02  -6.05281194e-01  -2.28041604e-01]\n",
      " [ -8.24883830e-01  -1.51684926e+00  -7.25185191e-01]\n",
      " [ -2.49213762e-01   9.20751268e-01   2.23926360e+00]\n",
      " [ -1.49046586e+00  -4.90491142e-01  -3.79946589e-01]\n",
      " [ -6.70544700e-02   2.38763309e-01   7.20213755e-01]\n",
      " [ -1.49747198e+00  -1.05606848e-01   9.13547372e-01]\n",
      " [  8.98623313e-01  -1.40881156e+00  -6.88359740e-01]\n",
      " [ -2.79573643e-01   7.65447079e-01  -8.35661544e-01]\n",
      " [  9.62846140e-01   6.10142891e-01   2.00910454e+00]\n",
      " [ -6.98773552e-01  -7.74090095e-01  -2.14232060e-01]\n",
      " [ -1.62591764e+00   1.05579839e+00   9.22753735e-01]\n",
      " [ -7.80511695e-01  -1.57086811e+00  -9.82963347e-01]\n",
      " [  8.55418865e-01   1.73778635e+00  -1.25915423e+00]\n",
      " [ -1.02105537e+00  -7.60585383e-01   5.77515133e-01]\n",
      " [ -1.70882347e+00   1.10306488e+00  -1.00597925e+00]\n",
      " [  1.37971067e+00  -1.37504978e+00   5.72911952e-01]\n",
      " [ -1.61891151e+00   2.65772733e-01  -1.30978922e+00]\n",
      " [  8.49580427e-01   6.91171163e-01   6.69578760e-01]\n",
      " [ -1.28612050e+00   1.03554132e+00   1.61323094e+00]\n",
      " [ -1.15300409e+00   1.60273923e+00  -1.01518562e+00]\n",
      " [ -1.41806922e+00   1.06255074e+00  -9.78360166e-01]\n",
      " [  1.47896413e+00   3.80562786e-01   1.34164324e+00]\n",
      " [ -1.21489154e+00   1.77992105e-01  -4.62803854e-01]\n",
      " [  4.42057396e-01   1.39341619e+00  -1.32820195e+00]\n",
      " [ -8.59914463e-01  -4.22967582e-01  -8.12645637e-01]\n",
      " [  5.44813920e-01   8.19465927e-01   2.07354907e+00]\n",
      " [  8.57754241e-01   6.70914095e-01   3.38149702e-01]\n",
      " [ -4.95595880e-01  -1.18598381e+00   1.77038355e-01]\n",
      " [ -5.93681653e-01  -5.71519414e-01   3.84181516e-01]\n",
      " [ -7.87313476e-02  -1.44257334e+00  -9.92169710e-01]\n",
      " [  1.08662104e+00  -1.07794612e+00  -1.00597925e+00]\n",
      " [  1.12281936e+00   1.73778635e+00   6.32753309e-01]\n",
      " [ -1.27327593e+00   1.15033137e+00  -8.58677450e-01]\n",
      " [ -1.19504085e+00   1.71239749e-01  -4.58200672e-01]\n",
      " [  1.56070228e+00  -6.32290618e-01   2.96721070e-01]\n",
      " [ -3.04095087e-01  -1.00367020e+00   8.35293289e-01]\n",
      " [  5.90353742e-01   2.43084817e-03  -7.52804279e-01]\n",
      " [  2.83251860e-01   1.10981724e+00   3.28943340e-01]\n",
      " [  4.75920341e-01  -1.46120984e-01  -9.69153803e-01]\n",
      " [ -1.66912209e+00  -7.87594807e-01  -1.14407469e+00]\n",
      " [ -6.20538471e-01   1.36640677e+00   9.18150553e-01]\n",
      " [  3.21989902e-02  -1.48308748e+00  -2.87882962e-01]\n",
      " [ -1.58037782e+00   9.20751268e-01   6.74181942e-01]\n",
      " [ -1.79152496e-01  -3.28434597e-01   1.86244718e-01]\n",
      " [  2.97264113e-01  -3.48691665e-01   6.72064478e-03]\n",
      " [ -7.16288868e-01   8.46475352e-01   8.62912377e-01]\n",
      " [  4.82926468e-01  -3.48691665e-01  -2.28041604e-01]\n",
      " [  1.92172214e-01   9.13998912e-01  -1.06582061e+00]\n",
      " [ -3.48467222e-01  -5.78271770e-01  -1.15788424e+00]\n",
      " [  1.02123053e+00  -1.34128800e+00   2.49704176e+00]\n",
      " [ -1.50798117e+00   9.68017760e-01  -4.12168859e-01]\n",
      " [  6.97781017e-01  -1.21974559e+00  -5.13438849e-01]\n",
      " [  7.98202165e-01   2.26879163e-02   1.24497643e+00]\n",
      " [  1.60273904e+00  -8.55118367e-01  -1.11185242e+00]\n",
      " [ -1.13315340e+00  -7.87594807e-01  -5.59470662e-01]\n",
      " [  2.03849092e-01  -1.59625696e-01   7.75451931e-01]\n",
      " [ -1.48813048e+00  -2.13644545e-01  -6.23915201e-01]\n",
      " [  2.49388915e-01  -1.09145083e+00  -8.17248818e-01]\n",
      " [  8.79940308e-01  -1.34128800e+00  -8.03439274e-01]\n",
      " [  1.51633014e+00   1.73103399e+00   5.17673775e-01]\n",
      " [  1.18353913e+00   4.68343414e-01  -4.72010216e-01]\n",
      " [  2.70407294e-01  -1.04418434e+00   2.13863806e-01]\n",
      " [  1.51399477e+00  -1.41556392e+00  -3.15502050e-01]\n",
      " [  2.16693657e-01  -8.95632503e-01  -5.96296113e-01]\n",
      " [  1.11601758e-01  -1.39530685e+00  -1.02439198e+00]\n",
      " [  8.34400486e-01  -1.20624088e+00  -1.45184340e-01]\n",
      " [ -1.06075676e+00  -1.18598381e+00  -3.93111688e-02]\n",
      " [  1.64127273e+00   1.33264499e+00   1.89862818e+00]\n",
      " [  1.24659427e+00  -1.32616272e-01  -2.55016247e-02]\n",
      " [  6.76762637e-01   1.47444446e+00  -5.04232486e-01]\n",
      " [ -8.80728498e-02  -1.42906863e+00  -1.82009791e-01]\n",
      " [  5.14454038e-01   3.67058074e-01  -5.68677025e-01]\n",
      " [  1.62258973e+00  -6.32290618e-01  -1.23613832e+00]\n",
      " [ -1.49863967e+00  -7.53833027e-01  -3.29311594e-01]\n",
      " [ -1.25576062e+00   1.20435022e+00  -1.13947151e+00]\n",
      " [ -8.35393020e-01  -8.41613655e-01  -1.13026515e+00]\n",
      " [ -1.51615499e+00  -1.29402151e+00   4.81492770e-02]\n",
      " [  2.30705910e-01   1.26512143e+00  -1.24074150e+00]\n",
      " [  3.10313024e-02   8.32970639e-01  -1.13026515e+00]\n",
      " [ -1.27094056e+00  -1.32103093e+00  -7.71217005e-01]\n",
      " [ -6.17035408e-01  -1.24000266e+00  -1.03359834e+00]\n",
      " [  3.49810063e-01  -9.42898996e-01  -1.11185242e+00]\n",
      " [  1.59456522e+00   1.26512143e+00   1.64085003e+00]\n",
      " [  9.93206022e-01  -9.90165488e-01  -1.00597925e+00]]\n"
     ]
    }
   ],
   "source": [
    "from sklearn.preprocessing import StandardScaler\n",
    "\n",
    "scaler = StandardScaler()\n",
    "\n",
    "scaler.fit(X)\n",
    "\n",
    "X = scaler.transform(X)\n",
    "print(X)"
   ]
  },
  {
   "cell_type": "code",
   "execution_count": 7,
   "metadata": {
    "collapsed": true
   },
   "outputs": [],
   "source": [
    "from sklearn.model_selection import train_test_split\n",
    "\n",
    "#Split the data into test and train\n",
    "X_train, X_test, Y_train, Y_test = train_test_split(X, Y, test_size=0.3,random_state=10)  \n"
   ]
  },
  {
   "cell_type": "code",
   "execution_count": 8,
   "metadata": {
    "scrolled": true
   },
   "outputs": [
    {
     "name": "stdout",
     "output_type": "stream",
     "text": [
      "14.1220707366\n",
      "[ 3.68520775  2.86599405 -0.08401343]\n"
     ]
    }
   ],
   "source": [
    "from sklearn.linear_model import LinearRegression\n",
    "lm = LinearRegression()\n",
    "lm.fit(X_train,Y_train)\n",
    "\n",
    "# print intercept and coefficients\n",
    "print (lm.intercept_)\n",
    "print (lm.coef_)\n"
   ]
  },
  {
   "cell_type": "code",
   "execution_count": 9,
   "metadata": {},
   "outputs": [
    {
     "name": "stdout",
     "output_type": "stream",
     "text": [
      "[('TV', 3.6852077530311766), ('radio', 2.8659940512184603), ('newspaper', -0.084013434084748734)]\n"
     ]
    }
   ],
   "source": [
    "# pair the feature names with the coefficients\n",
    "print(list(zip(feature_cols, lm.coef_)))"
   ]
  },
  {
   "cell_type": "code",
   "execution_count": 10,
   "metadata": {},
   "outputs": [
    {
     "name": "stdout",
     "output_type": "stream",
     "text": [
      "15.04496908861\n"
     ]
    }
   ],
   "source": [
    "X1=50\n",
    "X2=50\n",
    "X3=50\n",
    "y_pred=3.41064158861+(0.04303172 *X1)+(0.19352212*X2)+(-0.00386729*X3)\n",
    "print(y_pred)"
   ]
  },
  {
   "cell_type": "code",
   "execution_count": 11,
   "metadata": {
    "scrolled": false
   },
   "outputs": [
    {
     "name": "stdout",
     "output_type": "stream",
     "text": [
      "[ 18.15036181  12.95820252  17.96281871  23.48635189  20.63943359\n",
      "  14.30052742  14.92156542  21.2976061   21.13034935  12.76544933\n",
      "  23.86491138   7.28387816  12.2490586   19.1775      19.25023292\n",
      "  13.52576881  19.58541788   9.39297179  21.07552783  20.88419301\n",
      "  15.53857614  11.0705944   22.70668386  15.78683838  17.33994297\n",
      "   8.22415652  12.02365058  12.75655772  21.69357443   8.07811401\n",
      "  12.50491791  20.39390447   4.82359637   4.80401137  16.68053135\n",
      "  15.67096463   6.82620647  17.67114344   9.04839361  13.58820984\n",
      "  13.04172346  12.33122736  15.1813447   10.19394905  21.93462858\n",
      "  10.875483    14.75565779  15.02894864   9.00263894  12.06902073\n",
      "   8.45912507  13.83739383  22.79988682  17.53932396  14.52245343\n",
      "   6.01712284  24.6277039   17.75036984  10.10209419   8.41135619]\n"
     ]
    }
   ],
   "source": [
    "Y_pred=lm.predict(X_test)\n",
    "print(Y_pred)"
   ]
  },
  {
   "cell_type": "code",
   "execution_count": 12,
   "metadata": {},
   "outputs": [
    {
     "name": "stdout",
     "output_type": "stream",
     "text": [
      "0.856779067804\n",
      "2.31820007508\n"
     ]
    }
   ],
   "source": [
    "from sklearn.metrics import r2_score,mean_squared_error\n",
    "import numpy as np\n",
    "\n",
    "r2score=r2_score(Y_test,Y_pred)\n",
    "print(r2score)\n",
    "\n",
    "rmse=np.sqrt(mean_squared_error(Y_test,Y_pred))\n",
    "print(rmse)\n"
   ]
  },
  {
   "cell_type": "code",
   "execution_count": 13,
   "metadata": {
    "scrolled": true
   },
   "outputs": [
    {
     "name": "stdout",
     "output_type": "stream",
     "text": [
      "1.6\n",
      "27.0\n"
     ]
    }
   ],
   "source": [
    "print(min(Y))\n",
    "print(max(Y))      "
   ]
  },
  {
   "cell_type": "code",
   "execution_count": 14,
   "metadata": {},
   "outputs": [
    {
     "name": "stdout",
     "output_type": "stream",
     "text": [
      "Intercept    2.938889\n",
      "TV           0.045765\n",
      "radio        0.188530\n",
      "newspaper   -0.001037\n",
      "dtype: float64\n",
      "                            OLS Regression Results                            \n",
      "==============================================================================\n",
      "Dep. Variable:                  sales   R-squared:                       0.897\n",
      "Model:                            OLS   Adj. R-squared:                  0.896\n",
      "Method:                 Least Squares   F-statistic:                     570.3\n",
      "Date:                Sun, 02 Sep 2018   Prob (F-statistic):           1.58e-96\n",
      "Time:                        12:10:11   Log-Likelihood:                -386.18\n",
      "No. Observations:                 200   AIC:                             780.4\n",
      "Df Residuals:                     196   BIC:                             793.6\n",
      "Df Model:                           3                                         \n",
      "Covariance Type:            nonrobust                                         \n",
      "==============================================================================\n",
      "                 coef    std err          t      P>|t|      [0.025      0.975]\n",
      "------------------------------------------------------------------------------\n",
      "Intercept      2.9389      0.312      9.422      0.000       2.324       3.554\n",
      "TV             0.0458      0.001     32.809      0.000       0.043       0.049\n",
      "radio          0.1885      0.009     21.893      0.000       0.172       0.206\n",
      "newspaper     -0.0010      0.006     -0.177      0.860      -0.013       0.011\n",
      "==============================================================================\n",
      "Omnibus:                       60.414   Durbin-Watson:                   2.084\n",
      "Prob(Omnibus):                  0.000   Jarque-Bera (JB):              151.241\n",
      "Skew:                          -1.327   Prob(JB):                     1.44e-33\n",
      "Kurtosis:                       6.332   Cond. No.                         454.\n",
      "==============================================================================\n",
      "\n",
      "Warnings:\n",
      "[1] Standard Errors assume that the covariance matrix of the errors is correctly specified.\n"
     ]
    }
   ],
   "source": [
    "import statsmodels.formula.api as sm\n",
    "\n",
    "# create a fitted model with all three features\n",
    "lm_model = sm.ols(formula='sales ~ TV + radio + newspaper', data=data).fit()\n",
    "\n",
    "# print the coefficients\n",
    "print(lm_model.params)\n",
    "print(lm_model.summary())\n"
   ]
  },
  {
   "cell_type": "code",
   "execution_count": 58,
   "metadata": {},
   "outputs": [
    {
     "name": "stdout",
     "output_type": "stream",
     "text": [
      "0.897210638179\n",
      "1.66857014072\n"
     ]
    }
   ],
   "source": [
    "Y_pred=lm_model.predict()\n",
    "\n",
    "from sklearn.metrics import r2_score,mean_squared_error\n",
    "import numpy as np\n",
    "\n",
    "r2score=r2_score(data['sales'],Y_pred)\n",
    "print(r2score)\n",
    "\n",
    "rmse=np.sqrt(mean_squared_error(data['sales'],Y_pred))\n",
    "print(rmse)\n"
   ]
  },
  {
   "cell_type": "code",
   "execution_count": 52,
   "metadata": {},
   "outputs": [
    {
     "data": {
      "text/html": [
       "<div>\n",
       "<style>\n",
       "    .dataframe thead tr:only-child th {\n",
       "        text-align: right;\n",
       "    }\n",
       "\n",
       "    .dataframe thead th {\n",
       "        text-align: left;\n",
       "    }\n",
       "\n",
       "    .dataframe tbody tr th {\n",
       "        vertical-align: top;\n",
       "    }\n",
       "</style>\n",
       "<table border=\"1\" class=\"dataframe\">\n",
       "  <thead>\n",
       "    <tr style=\"text-align: right;\">\n",
       "      <th></th>\n",
       "      <th>features</th>\n",
       "      <th>VIF Factor</th>\n",
       "    </tr>\n",
       "  </thead>\n",
       "  <tbody>\n",
       "    <tr>\n",
       "      <th>0</th>\n",
       "      <td>TV</td>\n",
       "      <td>2.49</td>\n",
       "    </tr>\n",
       "    <tr>\n",
       "      <th>1</th>\n",
       "      <td>radio</td>\n",
       "      <td>3.29</td>\n",
       "    </tr>\n",
       "    <tr>\n",
       "      <th>2</th>\n",
       "      <td>newspaper</td>\n",
       "      <td>3.06</td>\n",
       "    </tr>\n",
       "  </tbody>\n",
       "</table>\n",
       "</div>"
      ],
      "text/plain": [
       "    features  VIF Factor\n",
       "0         TV        2.49\n",
       "1      radio        3.29\n",
       "2  newspaper        3.06"
      ]
     },
     "execution_count": 52,
     "metadata": {},
     "output_type": "execute_result"
    }
   ],
   "source": [
    "from statsmodels.stats.outliers_influence import variance_inflation_factor as vif\n",
    "ind_df=data.iloc[:,:-1]\n",
    "\n",
    "vif_df = pd.DataFrame()\n",
    "vif_df[\"features\"] = ind_df.columns\n",
    "vif_df[\"VIF Factor\"] = [vif(ind_df.values, i) for i in range(ind_df.shape[1])]\n",
    "vif_df.round(2)"
   ]
  },
  {
   "cell_type": "code",
   "execution_count": 15,
   "metadata": {
    "scrolled": true
   },
   "outputs": [
    {
     "name": "stdout",
     "output_type": "stream",
     "text": [
      "Intercept    2.921100\n",
      "TV           0.045755\n",
      "radio        0.187994\n",
      "dtype: float64\n",
      "                            OLS Regression Results                            \n",
      "==============================================================================\n",
      "Dep. Variable:                  sales   R-squared:                       0.897\n",
      "Model:                            OLS   Adj. R-squared:                  0.896\n",
      "Method:                 Least Squares   F-statistic:                     859.6\n",
      "Date:                Sun, 02 Sep 2018   Prob (F-statistic):           4.83e-98\n",
      "Time:                        12:10:32   Log-Likelihood:                -386.20\n",
      "No. Observations:                 200   AIC:                             778.4\n",
      "Df Residuals:                     197   BIC:                             788.3\n",
      "Df Model:                           2                                         \n",
      "Covariance Type:            nonrobust                                         \n",
      "==============================================================================\n",
      "                 coef    std err          t      P>|t|      [0.025      0.975]\n",
      "------------------------------------------------------------------------------\n",
      "Intercept      2.9211      0.294      9.919      0.000       2.340       3.502\n",
      "TV             0.0458      0.001     32.909      0.000       0.043       0.048\n",
      "radio          0.1880      0.008     23.382      0.000       0.172       0.204\n",
      "==============================================================================\n",
      "Omnibus:                       60.022   Durbin-Watson:                   2.081\n",
      "Prob(Omnibus):                  0.000   Jarque-Bera (JB):              148.679\n",
      "Skew:                          -1.323   Prob(JB):                     5.19e-33\n",
      "Kurtosis:                       6.292   Cond. No.                         425.\n",
      "==============================================================================\n",
      "\n",
      "Warnings:\n",
      "[1] Standard Errors assume that the covariance matrix of the errors is correctly specified.\n"
     ]
    }
   ],
   "source": [
    "import statsmodels.formula.api as sm\n",
    "\n",
    "# create a fitted model with two features\n",
    "lm_model = sm.ols(formula='sales ~ TV + radio ', data=data).fit()\n",
    "\n",
    "# print the coefficients\n",
    "print(lm_model.params)\n",
    "print(lm_model.summary())"
   ]
  },
  {
   "cell_type": "code",
   "execution_count": 55,
   "metadata": {},
   "outputs": [
    {
     "name": "stdout",
     "output_type": "stream",
     "text": [
      "                 TV     radio  newspaper\n",
      "TV         1.000000  0.054809   0.056648\n",
      "radio      0.054809  1.000000   0.354104\n",
      "newspaper  0.056648  0.354104   1.000000\n"
     ]
    },
    {
     "data": {
      "text/plain": [
       "<matplotlib.axes._subplots.AxesSubplot at 0x296ba801278>"
      ]
     },
     "execution_count": 55,
     "metadata": {},
     "output_type": "execute_result"
    },
    {
     "data": {
      "image/png": "[encoded data removed]",
      "text/plain": [
       "<matplotlib.figure.Figure at 0x296ba7c7eb8>"
      ]
     },
     "metadata": {},
     "output_type": "display_data"
    }
   ],
   "source": [
    "import seaborn as sns\n",
    "\n",
    "corr_df=ind_df.corr(method=\"pearson\")\n",
    "print(corr_df)\n",
    "\n",
    "sns.heatmap(corr_df,vmax=1.0,vmin=-1.0)"
   ]
  },
  {
   "cell_type": "code",
   "execution_count": 54,
   "metadata": {
    "scrolled": true
   },
   "outputs": [
    {
     "data": {
      "text/plain": [
       "<matplotlib.axes._subplots.AxesSubplot at 0x296ba721940>"
      ]
     },
     "execution_count": 54,
     "metadata": {},
     "output_type": "execute_result"
    },
    {
     "data": {
      "image/png": "[encoded data removed]",
      "text/plain": [
       "<matplotlib.figure.Figure at 0x296ba737a90>"
      ]
     },
     "metadata": {},
     "output_type": "display_data"
    }
   ],
   "source": [
    "ind_df=data.iloc[:,:-1]\n",
    "sns.set(color_codes=True)\n",
    "#sns.distplot(ind_df['newspaper'])\n",
    "sns.distplot(X[:,2])"
   ]
  },
  {
   "cell_type": "code",
   "execution_count": null,
   "metadata": {
    "collapsed": true
   },
   "outputs": [],
   "source": []
  },
  {
   "cell_type": "code",
   "execution_count": null,
   "metadata": {
    "collapsed": true
   },
   "outputs": [],
   "source": []
  },
  {
   "cell_type": "code",
   "execution_count": null,
   "metadata": {
    "collapsed": true
   },
   "outputs": [],
   "source": []
  },
  {
   "cell_type": "code",
   "execution_count": null,
   "metadata": {
    "collapsed": true
   },
   "outputs": [],
   "source": []
  },
  {
   "cell_type": "code",
   "execution_count": null,
   "metadata": {
    "collapsed": true
   },
   "outputs": [],
   "source": []
  }
 ],
 "metadata": {
  "kernelspec": {
   "display_name": "Python 3",
   "language": "python",
   "name": "python3"
  },
  "language_info": {
   "codemirror_mode": {
    "name": "ipython",
    "version": 3
   },
   "file_extension": ".py",
   "mimetype": "text/x-python",
   "name": "python",
   "nbconvert_exporter": "python",
   "pygments_lexer": "ipython3",
   "version": "3.6.2"
  }
 },
 "nbformat": 4,
 "nbformat_minor": 2
}
